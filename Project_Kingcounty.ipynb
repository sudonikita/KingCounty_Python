{
 "cells": [
  {
   "cell_type": "code",
   "execution_count": 2,
   "metadata": {},
   "outputs": [],
   "source": [
    "import pandas as pd"
   ]
  },
  {
   "cell_type": "code",
   "execution_count": 4,
   "metadata": {},
   "outputs": [],
   "source": [
    "king_county = pd.read_csv(\"kc_house_data.csv\")"
   ]
  },
  {
   "cell_type": "code",
   "execution_count": 6,
   "metadata": {},
   "outputs": [],
   "source": [
    "popln = pd.read_csv(\"zicode_pop.csv\")"
   ]
  },
  {
   "cell_type": "code",
   "execution_count": 7,
   "metadata": {},
   "outputs": [
    {
     "name": "stdout",
     "output_type": "stream",
     "text": [
      "This project intends to apply ML techiniques and EDA to identify the zipcodes in King County, WA and how are their prices.I will be using two data sets : king_couty data set from kaggle and a zipcodes with populatin data from king county website.\n"
     ]
    }
   ],
   "source": [
    "print(\"This project intends to apply ML techiniques and EDA to identify the zipcodes in King County, WA and how are their prices.I will be using two data sets : king_couty data set from kaggle and a zipcodes with populatin data from king county website.\")"
   ]
  },
  {
   "cell_type": "code",
   "execution_count": 19,
   "metadata": {},
   "outputs": [
    {
     "name": "stdout",
     "output_type": "stream",
     "text": [
      "The king county data has 21613 rows and 21 columns.\n"
     ]
    }
   ],
   "source": [
    "print(\"The king county data has \" + str(king_county.shape[0]) + \" rows and \" + str(king_county.shape[1]) + \" columns.\")"
   ]
  },
  {
   "cell_type": "code",
   "execution_count": 20,
   "metadata": {},
   "outputs": [
    {
     "name": "stdout",
     "output_type": "stream",
     "text": [
      "Similarly, the zipcodes population data has 120 rows and 6 columns.\n"
     ]
    }
   ],
   "source": [
    "print(\"Similarly, the zipcodes population data has \" + str(popln.shape[0]) + \" rows and \" + str(popln.shape[1]) + \" columns.\")"
   ]
  },
  {
   "cell_type": "code",
   "execution_count": 21,
   "metadata": {},
   "outputs": [
    {
     "name": "stdout",
     "output_type": "stream",
     "text": [
      "The data sets will be joined on zipcodes\n"
     ]
    }
   ],
   "source": [
    "print(\"The data sets will be joined on zipcodes\")"
   ]
  },
  {
   "cell_type": "code",
   "execution_count": null,
   "metadata": {},
   "outputs": [],
   "source": []
  }
 ],
 "metadata": {
  "kernelspec": {
   "display_name": "Python 3",
   "language": "python",
   "name": "python3"
  },
  "language_info": {
   "codemirror_mode": {
    "name": "ipython",
    "version": 3
   },
   "file_extension": ".py",
   "mimetype": "text/x-python",
   "name": "python",
   "nbconvert_exporter": "python",
   "pygments_lexer": "ipython3",
   "version": "3.7.4"
  }
 },
 "nbformat": 4,
 "nbformat_minor": 4
}
